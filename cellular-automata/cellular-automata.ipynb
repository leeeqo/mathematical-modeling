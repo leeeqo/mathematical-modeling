{
  "nbformat": 4,
  "nbformat_minor": 0,
  "metadata": {
    "colab": {
      "provenance": []
    },
    "kernelspec": {
      "name": "python3",
      "display_name": "Python 3"
    },
    "language_info": {
      "name": "python"
    }
  },
  "cells": [
    {
      "cell_type": "code",
      "execution_count": 1,
      "metadata": {
        "id": "zcZXluo8VSv4"
      },
      "outputs": [],
      "source": [
        "from random import *\n",
        "import matplotlib.pyplot as plt\n",
        "from numpy import *\n",
        "import numpy as np"
      ]
    },
    {
      "cell_type": "code",
      "source": [
        "n = 80\n",
        "conditions = [0, 1, 2, 3, 4, 5, 6, 7, 8, 9, 0] #zero in the end is necessary\n",
        "\n",
        "\n",
        "#State probabilities, P == 1 - equiprobable, P == 2 - no\n",
        "\n",
        "P = 2\n",
        "if P == 1:\n",
        "    weights = [0.1, 0.1, 0.1, 0.1, 0.1, 0.1, 0.1, 0.1, 0.1, 0.1, 0]\n",
        "if P == 2:\n",
        "    weights = [0.14, 0.03, 0.23, 0.01, 0.12, 0.05, 0.03, 0.20, 0.09, 0.10, 0]"
      ],
      "metadata": {
        "id": "1StVI9RAVXR3"
      },
      "execution_count": 2,
      "outputs": []
    },
    {
      "cell_type": "code",
      "source": [
        "#Moore neighborhood\n",
        "\n",
        "Moor = ((1,1), (0,1), (-1,1), (-1,0), (-1,-1), (0,-1), (1,-1), (1,0))"
      ],
      "metadata": {
        "id": "xHewaWcgVrWj"
      },
      "execution_count": 3,
      "outputs": []
    },
    {
      "cell_type": "code",
      "source": [
        "X = np.zeros((n, n))\n",
        "\n",
        "for x in range(n):\n",
        "    for y in range(n):\n",
        "        X[x, y] = choices(conditions, weights = weights)[0]"
      ],
      "metadata": {
        "id": "cz9NJrOBWVUA"
      },
      "execution_count": 5,
      "outputs": []
    },
    {
      "cell_type": "code",
      "source": [
        "stroka, stolbets = np.empty((1, n)), np.empty((n+2, 1))\n",
        "stroka.fill(np.nan)\n",
        "stolbets.fill(np.nan)"
      ],
      "metadata": {
        "id": "knr7EDrfVyyC"
      },
      "execution_count": 6,
      "outputs": []
    },
    {
      "cell_type": "code",
      "source": [
        "# Cellular automata\n",
        "\n",
        "def step(X):\n",
        "    X = np.concatenate((stroka, X, stroka))\n",
        "    X = np.concatenate((stolbets, X, stolbets), axis = 1)\n",
        "    X_new = np.copy(X)\n",
        "    for x in range(1, n + 1):\n",
        "        for y in range(1, n + 1):\n",
        "            for k in range(len(conditions) - 1):\n",
        "                if X[x, y] == conditions[k]:\n",
        "                    for dx, dy in Moor:\n",
        "                        if X[x + dx, y + dy] == conditions[k + 1]:\n",
        "                            X_new[x, y] = conditions[k + 1]\n",
        "\n",
        "    return X_new[1:n+1, 1:n+1]"
      ],
      "metadata": {
        "id": "OjehThgMV6S6"
      },
      "execution_count": 7,
      "outputs": []
    },
    {
      "cell_type": "code",
      "source": [
        "# CA visualization\n",
        "\n",
        "fig, ax = plt.subplots()\n",
        "data = np.random.rand(3,3)\n",
        "heatmap = ax.pcolor(data, cmap='viridis')\n",
        "fig.canvas.draw()\n",
        "fig.show()\n",
        "\n",
        "while True:\n",
        "    try:\n",
        "        X=step(X)\n",
        "        heatmap = ax.pcolor(X)\n",
        "        #ax.draw_artist(ax.patch)\n",
        "        ax.draw_artist(heatmap)\n",
        "        fig.canvas.blit(ax.bbox)\n",
        "        fig.canvas.flush_events()\n",
        "    except KeyboardInterrupt:\n",
        "        break"
      ],
      "metadata": {
        "colab": {
          "base_uri": "https://localhost:8080/",
          "height": 435
        },
        "id": "gSkOG6amV9z8",
        "outputId": "67e32c84-388b-4183-f045-57c480e2f539"
      },
      "execution_count": 8,
      "outputs": [
        {
          "output_type": "display_data",
          "data": {
            "text/plain": [
              "<Figure size 640x480 with 1 Axes>"
            ],
            "image/png": "[encoded data removed]"
          },
          "metadata": {}
        }
      ]
    }
  ]
}